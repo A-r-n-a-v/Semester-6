{
 "cells": [
  {
   "cell_type": "markdown",
   "metadata": {},
   "source": [
    "### Importing Libraries"
   ]
  },
  {
   "cell_type": "code",
   "execution_count": 1,
   "metadata": {},
   "outputs": [],
   "source": [
    "import numpy as np\n",
    "import threading\n",
    "import os\n",
    "import time\n",
    "import multiprocessing\n",
    "import cv2\n",
    "import matplotlib.pyplot as plt"
   ]
  },
  {
   "cell_type": "markdown",
   "metadata": {},
   "source": [
    "### Q1"
   ]
  },
  {
   "cell_type": "code",
   "execution_count": 2,
   "metadata": {},
   "outputs": [],
   "source": [
    "# n = size of the square matrix\n",
    "n = 5\n",
    "min_val = 0\n",
    "max_val = 10\n",
    "\n",
    "A = np.random.randint(min_val,max_val,(n,n))\n",
    "B = np.random.randint(min_val,max_val,(n,n))"
   ]
  },
  {
   "cell_type": "code",
   "execution_count": 3,
   "metadata": {},
   "outputs": [],
   "source": [
    "def task(n, A, B, C):\n",
    "    for i in range(n):  \n",
    "        for j in range(n):\n",
    "            for k in range(n):\n",
    "                C[i][j] += A[i][k] * B[k][j]\n",
    "    return C"
   ]
  },
  {
   "cell_type": "code",
   "execution_count": 4,
   "metadata": {},
   "outputs": [
    {
     "data": {
      "text/plain": [
       "[[0, 0, 0, 0, 0],\n",
       " [0, 0, 0, 0, 0],\n",
       " [0, 0, 0, 0, 0],\n",
       " [0, 0, 0, 0, 0],\n",
       " [0, 0, 0, 0, 0]]"
      ]
     },
     "execution_count": 4,
     "metadata": {},
     "output_type": "execute_result"
    }
   ],
   "source": [
    "# Defining the output matrix\n",
    "C = [[0 for i in range(n)] for i in range(n)]\n",
    "C"
   ]
  },
  {
   "cell_type": "code",
   "execution_count": 5,
   "metadata": {},
   "outputs": [
    {
     "data": {
      "text/plain": [
       "[[129, 112, 105, 106, 115],\n",
       " [122, 110, 133, 126, 136],\n",
       " [104, 76, 79, 78, 31],\n",
       " [37, 31, 30, 28, 14],\n",
       " [137, 121, 94, 111, 109]]"
      ]
     },
     "execution_count": 5,
     "metadata": {},
     "output_type": "execute_result"
    }
   ],
   "source": [
    "start = time.time()\n",
    "\n",
    "C = task(n, A, B, C)\n",
    "\n",
    "end = time.time()\n",
    "\n",
    "C"
   ]
  },
  {
   "cell_type": "code",
   "execution_count": 6,
   "metadata": {},
   "outputs": [
    {
     "name": "stdout",
     "output_type": "stream",
     "text": [
      "Time: 0.0009987354278564453\n"
     ]
    }
   ],
   "source": [
    "print(\"Time:\", end-start)"
   ]
  },
  {
   "cell_type": "markdown",
   "metadata": {},
   "source": [
    "### Q2"
   ]
  },
  {
   "cell_type": "code",
   "execution_count": 7,
   "metadata": {},
   "outputs": [
    {
     "data": {
      "text/plain": [
       "array([1, 6, 2, 9, 2, 8, 5, 7, 3, 8, 2, 8, 2, 2, 4, 8, 3, 6, 5, 9, 2, 8,\n",
       "       1, 5, 8, 0, 6, 2, 7, 6, 4, 3, 2, 0, 6, 5, 4, 8, 7, 5, 1, 0, 4, 1,\n",
       "       9, 4, 3, 8, 3, 4, 5])"
      ]
     },
     "execution_count": 7,
     "metadata": {},
     "output_type": "execute_result"
    }
   ],
   "source": [
    "# n = length of the array\n",
    "n = 51\n",
    "arr = np.random.randint(min_val,max_val,(n))\n",
    "arr"
   ]
  },
  {
   "cell_type": "code",
   "execution_count": 8,
   "metadata": {},
   "outputs": [
    {
     "name": "stdout",
     "output_type": "stream",
     "text": [
      "Search: 5\n",
      "Index: 6\n"
     ]
    }
   ],
   "source": [
    "# Generating random number to be searched\n",
    "search = np.random.randint(1, 10)\n",
    "\n",
    "start = time.time()\n",
    "\n",
    "for i in range(n):\n",
    "    if(arr[i] == search):\n",
    "        print(\"Search: {}\\nIndex: {}\".format(search, i))\n",
    "        break\n",
    "        \n",
    "end = time.time()"
   ]
  },
  {
   "cell_type": "code",
   "execution_count": 9,
   "metadata": {},
   "outputs": [
    {
     "name": "stdout",
     "output_type": "stream",
     "text": [
      "Time: 0.0\n"
     ]
    }
   ],
   "source": [
    "print(\"Time:\", end-start)"
   ]
  },
  {
   "cell_type": "markdown",
   "metadata": {},
   "source": [
    "### Q3"
   ]
  },
  {
   "cell_type": "code",
   "execution_count": 10,
   "metadata": {},
   "outputs": [
    {
     "data": {
      "text/plain": [
       "array([0, 5, 4, 0, 9, 0, 6, 8, 6, 3, 0, 8, 4, 9, 6, 1, 0, 4, 4, 9, 8, 8,\n",
       "       0, 9, 8, 4, 1, 0, 7, 5, 0, 7, 7, 3, 8, 2, 0, 1, 4, 7, 3, 2, 2, 1,\n",
       "       5, 4, 0, 1, 8, 1, 6])"
      ]
     },
     "execution_count": 10,
     "metadata": {},
     "output_type": "execute_result"
    }
   ],
   "source": [
    "# n = length of the array\n",
    "n = 51\n",
    "arr = np.random.randint(min_val,max_val,(n))\n",
    "arr"
   ]
  },
  {
   "cell_type": "code",
   "execution_count": 11,
   "metadata": {},
   "outputs": [
    {
     "name": "stdout",
     "output_type": "stream",
     "text": [
      "208\n"
     ]
    }
   ],
   "source": [
    "sum_ = 0\n",
    "\n",
    "start = time.time()\n",
    "\n",
    "for i in range(n):\n",
    "    sum_=sum_+arr[i]\n",
    "\n",
    "end = time.time()     \n",
    "\n",
    "print(sum_)"
   ]
  },
  {
   "cell_type": "code",
   "execution_count": 12,
   "metadata": {},
   "outputs": [
    {
     "name": "stdout",
     "output_type": "stream",
     "text": [
      "Time: 0.0\n"
     ]
    }
   ],
   "source": [
    "print(\"Time:\", end-start)"
   ]
  },
  {
   "cell_type": "markdown",
   "metadata": {},
   "source": [
    "### Q4"
   ]
  },
  {
   "cell_type": "code",
   "execution_count": 13,
   "metadata": {},
   "outputs": [],
   "source": [
    "def prime(n):\n",
    "    flag = True\n",
    "    for i in range(2,n//2):\n",
    "        if(n%i==0):\n",
    "            flag = False\n",
    "            break\n",
    "    \n",
    "    if(flag):\n",
    "        return n\n",
    "    \n",
    "    else:\n",
    "        return 0"
   ]
  },
  {
   "cell_type": "code",
   "execution_count": 14,
   "metadata": {},
   "outputs": [],
   "source": [
    "# Checking the elements that are prime \n",
    "prime_num = []\n",
    "min_ = 2\n",
    "max_ = 100\n",
    "\n",
    "start = time.time()\n",
    "\n",
    "for i in range(min_, max_+1):\n",
    "    if(prime(i) == 0):\n",
    "        continue\n",
    "        \n",
    "    else:\n",
    "        prime_num.append(i)\n",
    "        \n",
    "end = time.time()"
   ]
  },
  {
   "cell_type": "code",
   "execution_count": 15,
   "metadata": {},
   "outputs": [
    {
     "name": "stdout",
     "output_type": "stream",
     "text": [
      "Time:  0.0\n"
     ]
    }
   ],
   "source": [
    "time_serial = end-start\n",
    "print(\"Time: \", time_serial)"
   ]
  },
  {
   "cell_type": "code",
   "execution_count": 16,
   "metadata": {},
   "outputs": [
    {
     "data": {
      "text/plain": [
       "[2,\n",
       " 3,\n",
       " 4,\n",
       " 5,\n",
       " 7,\n",
       " 11,\n",
       " 13,\n",
       " 17,\n",
       " 19,\n",
       " 23,\n",
       " 29,\n",
       " 31,\n",
       " 37,\n",
       " 41,\n",
       " 43,\n",
       " 47,\n",
       " 53,\n",
       " 59,\n",
       " 61,\n",
       " 67,\n",
       " 71,\n",
       " 73,\n",
       " 79,\n",
       " 83,\n",
       " 89,\n",
       " 97]"
      ]
     },
     "execution_count": 16,
     "metadata": {},
     "output_type": "execute_result"
    }
   ],
   "source": [
    "prime_num"
   ]
  },
  {
   "cell_type": "markdown",
   "metadata": {},
   "source": [
    "### Q5\n"
   ]
  },
  {
   "cell_type": "code",
   "execution_count": 17,
   "metadata": {},
   "outputs": [],
   "source": [
    "# n = number of elements\n",
    "n = 6\n",
    "min = 0\n",
    "max = 1000\n",
    "\n",
    "arr = np.random.randint(min, max, (n))"
   ]
  },
  {
   "cell_type": "code",
   "execution_count": 18,
   "metadata": {},
   "outputs": [],
   "source": [
    "power_set = []\n",
    "start = time.time()\n",
    "\n",
    "x = len(arr)\n",
    "for i in range(1 << x):\n",
    "    power_set.append([arr[j] for j in range(x) if (i & (1 << j))])"
   ]
  },
  {
   "cell_type": "code",
   "execution_count": 19,
   "metadata": {},
   "outputs": [],
   "source": [
    "def primePowerSet(power_set):# Checking the elements that are prime in the power set\n",
    "    prime_subsets = []\n",
    "\n",
    "    for i in range(len(power_set)):\n",
    "        if(prime(sum(power_set[i])) == 0):\n",
    "            continue\n",
    "\n",
    "        else:\n",
    "            prime_subsets.append(power_set[i])\n",
    "    \n",
    "    return prime_subsets"
   ]
  },
  {
   "cell_type": "code",
   "execution_count": 20,
   "metadata": {},
   "outputs": [],
   "source": [
    "prime_subsets = primePowerSet(power_set)\n",
    "end = time.time()"
   ]
  },
  {
   "cell_type": "code",
   "execution_count": 21,
   "metadata": {},
   "outputs": [
    {
     "name": "stdout",
     "output_type": "stream",
     "text": [
      "Time:  0.03191423416137695\n"
     ]
    }
   ],
   "source": [
    "time_serial = end-start\n",
    "print(\"Time: \", time_serial)"
   ]
  },
  {
   "cell_type": "code",
   "execution_count": 22,
   "metadata": {},
   "outputs": [
    {
     "data": {
      "text/plain": [
       "[[109],\n",
       " [533, 187, 109],\n",
       " [109, 462],\n",
       " [533, 187, 109, 462],\n",
       " [187, 253, 109, 422],\n",
       " [187, 253, 109, 462, 422]]"
      ]
     },
     "execution_count": 22,
     "metadata": {},
     "output_type": "execute_result"
    }
   ],
   "source": [
    "prime_subsets"
   ]
  },
  {
   "cell_type": "markdown",
   "metadata": {},
   "source": [
    "### Q6"
   ]
  },
  {
   "cell_type": "code",
   "execution_count": 23,
   "metadata": {},
   "outputs": [],
   "source": [
    "def pali(word):\n",
    "    flag=0\n",
    "    if(word==word[::-1]):\n",
    "        flag=1\n",
    "    else:\n",
    "        flag=0\n",
    "        \n",
    "    return flag"
   ]
  },
  {
   "cell_type": "code",
   "execution_count": 24,
   "metadata": {},
   "outputs": [],
   "source": [
    "fp = open('Data/words.txt','r')\n",
    "arr = []\n",
    "\n",
    "for i in fp:\n",
    "    arr.append(i.strip('\\n'))"
   ]
  },
  {
   "cell_type": "code",
   "execution_count": 25,
   "metadata": {},
   "outputs": [],
   "source": [
    "tim = []\n",
    "ret = []\n",
    "\n",
    "start = time.time()\n",
    "\n",
    "for i in arr:\n",
    "    if (pali(i)==1):\n",
    "        ret.append(i)\n",
    "    else:\n",
    "        continue\n",
    "        \n",
    "end = time.time()"
   ]
  },
  {
   "cell_type": "code",
   "execution_count": 26,
   "metadata": {},
   "outputs": [
    {
     "name": "stdout",
     "output_type": "stream",
     "text": [
      "Time: 0.13363218307495117\n"
     ]
    }
   ],
   "source": [
    "print(\"Time:\",end-start)"
   ]
  },
  {
   "cell_type": "markdown",
   "metadata": {},
   "source": [
    "### Q7"
   ]
  },
  {
   "cell_type": "code",
   "execution_count": 27,
   "metadata": {},
   "outputs": [],
   "source": [
    "img = cv2.imread('Data/trump.jpg')\n",
    "img = cv2.resize(img, (512, 512))"
   ]
  },
  {
   "cell_type": "code",
   "execution_count": 28,
   "metadata": {},
   "outputs": [],
   "source": [
    "kernel = (np.random.randint(-1, 1, (3,3,3)))"
   ]
  },
  {
   "cell_type": "code",
   "execution_count": 29,
   "metadata": {},
   "outputs": [],
   "source": [
    "def convolvee(image):\n",
    "    (iH, iW) = image.shape[:2]\n",
    "    (kH, kW) = kernel.shape[:2]\n",
    "\n",
    "    pad = 0\n",
    "    image = cv2.copyMakeBorder(image, pad, pad, pad, pad,\n",
    "        cv2.BORDER_REPLICATE)\n",
    "    output = np.zeros((iH, iW), dtype=\"float32\")\n",
    "    # loop over the input image, \"sliding\" the kernel across\n",
    "    # each (x, y)-coordinate from left-to-right and top to\n",
    "    # bottom\n",
    "    for y in np.arange(pad, iH + pad):\n",
    "        for x in np.arange(pad, iW + pad):\n",
    "\n",
    "            roi = image[y - pad:y + pad + 1, x - pad:x + pad + 1]\n",
    "\n",
    "            k = (roi * kernel).sum()\n",
    "\n",
    "            output[y - pad, x - pad] = k\n",
    "\n",
    "\n",
    "    output = (output * 255).astype(\"uint8\")\n",
    "    # return the output image\n",
    "    return output"
   ]
  },
  {
   "cell_type": "code",
   "execution_count": 30,
   "metadata": {},
   "outputs": [],
   "source": [
    "start = time.time()\n",
    "\n",
    "new_img = convolvee(img)\n",
    "\n",
    "end = time.time()"
   ]
  },
  {
   "cell_type": "code",
   "execution_count": 31,
   "metadata": {},
   "outputs": [
    {
     "name": "stdout",
     "output_type": "stream",
     "text": [
      "Time: 1.7817931175231934\n"
     ]
    }
   ],
   "source": [
    "print(\"Time:\",end-start)"
   ]
  },
  {
   "cell_type": "code",
   "execution_count": 32,
   "metadata": {},
   "outputs": [
    {
     "data": {
      "text/plain": [
       "<matplotlib.image.AxesImage at 0x2adc53de670>"
      ]
     },
     "execution_count": 32,
     "metadata": {},
     "output_type": "execute_result"
    },
    {
     "data": {
      "image/png": "[encoded data removed]",
      "text/plain": [
       "<Figure size 432x288 with 1 Axes>"
      ]
     },
     "metadata": {
      "needs_background": "light"
     },
     "output_type": "display_data"
    }
   ],
   "source": [
    "plt.imshow(new_img, cmap='gray')"
   ]
  },
  {
   "cell_type": "markdown",
   "metadata": {},
   "source": [
    "### Pymp Trial"
   ]
  },
  {
   "cell_type": "code",
   "execution_count": 41,
   "metadata": {},
   "outputs": [],
   "source": [
    "from __future__ import print_function\n",
    "import pymp"
   ]
  },
  {
   "cell_type": "code",
   "execution_count": 42,
   "metadata": {
    "scrolled": true
   },
   "outputs": [
    {
     "name": "stdout",
     "output_type": "stream",
     "text": [
      "Yay! 0 done!\n",
      "Yay! 1 done!\n",
      "Yay! 2 done!\n",
      "Yay! 3 done!\n",
      "Yay! 4 done!\n",
      "Yay! 5 done!\n",
      "Yay! 6 done!\n",
      "Yay! 7 done!\n",
      "Yay! 8 done!\n",
      "Yay! 9 done!\n",
      "Yay! 10 done!\n",
      "Yay! 11 done!\n",
      "Yay! 12 done!\n",
      "Yay! 13 done!\n",
      "Yay! 14 done!\n",
      "Yay! 15 done!\n",
      "Yay! 16 done!\n",
      "Yay! 17 done!\n",
      "Yay! 18 done!\n",
      "Yay! 19 done!\n",
      "Yay! 20 done!\n",
      "Yay! 21 done!\n",
      "Yay! 22 done!\n",
      "Yay! 23 done!\n",
      "Yay! 24 done!\n",
      "Yay! 25 done!\n",
      "Yay! 26 done!\n",
      "Yay! 27 done!\n",
      "Yay! 28 done!\n",
      "Yay! 29 done!\n",
      "Yay! 30 done!\n",
      "Yay! 31 done!\n",
      "Yay! 32 done!\n",
      "Yay! 33 done!\n",
      "Yay! 34 done!\n",
      "Yay! 35 done!\n",
      "Yay! 36 done!\n",
      "Yay! 37 done!\n",
      "Yay! 38 done!\n",
      "Yay! 39 done!\n",
      "Yay! 40 done!\n",
      "Yay! 41 done!\n",
      "Yay! 42 done!\n",
      "Yay! 43 done!\n",
      "Yay! 44 done!\n",
      "Yay! 45 done!\n",
      "Yay! 46 done!\n",
      "Yay! 47 done!\n",
      "Yay! 48 done!\n",
      "Yay! 49 done!\n",
      "Yay! 50 done!\n",
      "Yay! 51 done!\n",
      "Yay! 52 done!\n",
      "Yay! 53 done!\n",
      "Yay! 54 done!\n",
      "Yay! 55 done!\n",
      "Yay! 56 done!\n",
      "Yay! 57 done!\n",
      "Yay! 58 done!\n",
      "Yay! 59 done!\n",
      "Yay! 60 done!\n",
      "Yay! 61 done!\n",
      "Yay! 62 done!\n",
      "Yay! 63 done!\n",
      "Yay! 64 done!\n",
      "Yay! 65 done!\n",
      "Yay! 66 done!\n",
      "Yay! 67 done!\n",
      "Yay! 68 done!\n",
      "Yay! 69 done!\n",
      "Yay! 70 done!\n",
      "Yay! 71 done!\n",
      "Yay! 72 done!\n",
      "Yay! 73 done!\n",
      "Yay! 74 done!\n",
      "Yay! 75 done!\n",
      "Yay! 76 done!\n",
      "Yay! 77 done!\n",
      "Yay! 78 done!\n",
      "Yay! 79 done!\n",
      "Yay! 80 done!\n",
      "Yay! 81 done!\n",
      "Yay! 82 done!\n",
      "Yay! 83 done!\n",
      "Yay! 84 done!\n",
      "Yay! 85 done!\n",
      "Yay! 86 done!\n",
      "Yay! 87 done!\n",
      "Yay! 88 done!\n",
      "Yay! 89 done!\n",
      "Yay! 90 done!\n",
      "Yay! 91 done!\n",
      "Yay! 92 done!\n",
      "Yay! 93 done!\n",
      "Yay! 94 done!\n",
      "Yay! 95 done!\n",
      "Yay! 96 done!\n",
      "Yay! 97 done!\n",
      "Yay! 98 done!\n",
      "Yay! 99 done!\n"
     ]
    }
   ],
   "source": [
    "start = time.time()\n",
    "\n",
    "ex_array = np.zeros((100,), dtype='uint8')\n",
    "for index in range(0, 100):\n",
    "    ex_array[index] = 1\n",
    "    print('Yay! {} done!'.format(index))\n",
    "    \n",
    "end = time.time()"
   ]
  },
  {
   "cell_type": "code",
   "execution_count": 43,
   "metadata": {},
   "outputs": [
    {
     "name": "stdout",
     "output_type": "stream",
     "text": [
      "Serial Time: 0.004986763000488281\n"
     ]
    }
   ],
   "source": [
    "print(\"Serial Time:\",end-start)"
   ]
  },
  {
   "cell_type": "code",
   "execution_count": 40,
   "metadata": {
    "scrolled": true
   },
   "outputs": [
    {
     "ename": "Exception",
     "evalue": "Pymp relies on full 'fork' support by the operating system. You seem to be using Windows, which unfortanetly does not do this.",
     "output_type": "error",
     "traceback": [
      "\u001b[1;31m---------------------------------------------------------------------------\u001b[0m",
      "\u001b[1;31mException\u001b[0m                                 Traceback (most recent call last)",
      "\u001b[1;32m<ipython-input-40-1736903ad072>\u001b[0m in \u001b[0;36m<module>\u001b[1;34m\u001b[0m\n\u001b[0;32m      2\u001b[0m \u001b[1;33m\u001b[0m\u001b[0m\n\u001b[0;32m      3\u001b[0m \u001b[0mex_array\u001b[0m \u001b[1;33m=\u001b[0m \u001b[0mpymp\u001b[0m\u001b[1;33m.\u001b[0m\u001b[0mshared\u001b[0m\u001b[1;33m.\u001b[0m\u001b[0marray\u001b[0m\u001b[1;33m(\u001b[0m\u001b[1;33m(\u001b[0m\u001b[1;36m100\u001b[0m\u001b[1;33m,\u001b[0m\u001b[1;33m)\u001b[0m\u001b[1;33m,\u001b[0m \u001b[0mdtype\u001b[0m\u001b[1;33m=\u001b[0m\u001b[1;34m'uint8'\u001b[0m\u001b[1;33m)\u001b[0m\u001b[1;33m\u001b[0m\u001b[1;33m\u001b[0m\u001b[0m\n\u001b[1;32m----> 4\u001b[1;33m \u001b[1;32mwith\u001b[0m \u001b[0mpymp\u001b[0m\u001b[1;33m.\u001b[0m\u001b[0mParallel\u001b[0m\u001b[1;33m(\u001b[0m\u001b[1;36m4\u001b[0m\u001b[1;33m)\u001b[0m \u001b[1;32mas\u001b[0m \u001b[0mp\u001b[0m\u001b[1;33m:\u001b[0m\u001b[1;33m\u001b[0m\u001b[1;33m\u001b[0m\u001b[0m\n\u001b[0m\u001b[0;32m      5\u001b[0m     \u001b[1;32mfor\u001b[0m \u001b[0mindex\u001b[0m \u001b[1;32min\u001b[0m \u001b[0mp\u001b[0m\u001b[1;33m.\u001b[0m\u001b[0mrange\u001b[0m\u001b[1;33m(\u001b[0m\u001b[1;36m0\u001b[0m\u001b[1;33m,\u001b[0m \u001b[1;36m100\u001b[0m\u001b[1;33m)\u001b[0m\u001b[1;33m:\u001b[0m\u001b[1;33m\u001b[0m\u001b[1;33m\u001b[0m\u001b[0m\n\u001b[0;32m      6\u001b[0m         \u001b[0mex_array\u001b[0m\u001b[1;33m[\u001b[0m\u001b[0mindex\u001b[0m\u001b[1;33m]\u001b[0m \u001b[1;33m=\u001b[0m \u001b[1;36m1\u001b[0m\u001b[1;33m\u001b[0m\u001b[1;33m\u001b[0m\u001b[0m\n",
      "\u001b[1;32mF:\\Anaconda\\lib\\site-packages\\pymp\\__init__.py\u001b[0m in \u001b[0;36m__init__\u001b[1;34m(self, num_threads, if_)\u001b[0m\n\u001b[0;32m     38\u001b[0m             \u001b[1;34m\"CYGWIN\"\u001b[0m\u001b[1;33m\u001b[0m\u001b[1;33m\u001b[0m\u001b[0m\n\u001b[0;32m     39\u001b[0m         ):\n\u001b[1;32m---> 40\u001b[1;33m             raise Exception(\n\u001b[0m\u001b[0;32m     41\u001b[0m                 \u001b[1;34m\"Pymp relies on full 'fork' support by the operating system. \"\u001b[0m\u001b[1;33m\u001b[0m\u001b[1;33m\u001b[0m\u001b[0m\n\u001b[0;32m     42\u001b[0m                 \u001b[1;34m\"You seem to be using Windows, which unfortanetly does not \"\u001b[0m\u001b[1;33m\u001b[0m\u001b[1;33m\u001b[0m\u001b[0m\n",
      "\u001b[1;31mException\u001b[0m: Pymp relies on full 'fork' support by the operating system. You seem to be using Windows, which unfortanetly does not do this."
     ]
    }
   ],
   "source": [
    "start = time.time()\n",
    "\n",
    "ex_array = pymp.shared.array((100,), dtype='uint8')\n",
    "with pymp.Parallel(4) as p:\n",
    "    for index in p.range(0, 100):\n",
    "        ex_array[index] = 1\n",
    "        # The parallel print function takes care of asynchronous output.\n",
    "        p.print('Yay! {} done!'.format(index))\n",
    "        \n",
    "end = time.time()"
   ]
  },
  {
   "cell_type": "code",
   "execution_count": null,
   "metadata": {},
   "outputs": [],
   "source": []
  }
 ],
 "metadata": {
  "kernelspec": {
   "display_name": "Python 3",
   "language": "python",
   "name": "python3"
  },
  "language_info": {
   "codemirror_mode": {
    "name": "ipython",
    "version": 3
   },
   "file_extension": ".py",
   "mimetype": "text/x-python",
   "name": "python",
   "nbconvert_exporter": "python",
   "pygments_lexer": "ipython3",
   "version": "3.8.5"
  }
 },
 "nbformat": 4,
 "nbformat_minor": 4
}
