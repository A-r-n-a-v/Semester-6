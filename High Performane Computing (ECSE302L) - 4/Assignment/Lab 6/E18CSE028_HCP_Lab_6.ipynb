{
  "nbformat": 4,
  "nbformat_minor": 0,
  "metadata": {
    "colab": {
      "name": "HCP_Lab6.ipynb",
      "provenance": []
    },
    "kernelspec": {
      "name": "python3",
      "display_name": "Python 3"
    },
    "accelerator": "GPU"
  },
  "cells": [
    {
      "cell_type": "code",
      "metadata": {
        "colab": {
          "base_uri": "https://localhost:8080/"
        },
        "id": "Zd0pFjWHQ4mI",
        "outputId": "7992d4ba-4466-493b-db87-830bd06eea98"
      },
      "source": [
        "!pip install pymp-pypi"
      ],
      "execution_count": null,
      "outputs": [
        {
          "output_type": "stream",
          "text": [
            "Collecting pymp-pypi\n",
            "  Downloading https://files.pythonhosted.org/packages/e9/ff/8ec07d0c901d4161012ae505d47b459dd30d5112b8ba4abca33811e62243/pymp_pypi-0.4.3-py3-none-any.whl\n",
            "Installing collected packages: pymp-pypi\n",
            "Successfully installed pymp-pypi-0.4.3\n"
          ],
          "name": "stdout"
        }
      ]
    },
    {
      "cell_type": "code",
      "metadata": {
        "colab": {
          "base_uri": "https://localhost:8080/"
        },
        "id": "xvkId-spRpCv",
        "outputId": "6620aae8-6991-4b09-ed02-33c9d8c49c46"
      },
      "source": [
        "!pip install numba"
      ],
      "execution_count": null,
      "outputs": [
        {
          "output_type": "stream",
          "text": [
            "Requirement already satisfied: numba in /usr/local/lib/python3.6/dist-packages (0.51.2)\n",
            "Requirement already satisfied: llvmlite<0.35,>=0.34.0.dev0 in /usr/local/lib/python3.6/dist-packages (from numba) (0.34.0)\n",
            "Requirement already satisfied: numpy>=1.15 in /usr/local/lib/python3.6/dist-packages (from numba) (1.19.5)\n",
            "Requirement already satisfied: setuptools in /usr/local/lib/python3.6/dist-packages (from numba) (53.0.0)\n"
          ],
          "name": "stdout"
        }
      ]
    },
    {
      "cell_type": "code",
      "metadata": {
        "colab": {
          "base_uri": "https://localhost:8080/"
        },
        "id": "HiluyGzrMSmt",
        "outputId": "db09a76e-e08c-4c4d-d8ae-7485ee17c121"
      },
      "source": [
        "import random\r\n",
        "import numpy as np\r\n",
        "tim = []\r\n",
        "\r\n",
        "n = int(input())\r\n",
        "mat = np.random.randint(low = 0, high = 100, size = (n,n))\r\n",
        "new_mat = np.random.randint(low = 0, high = 1, size = (n,n))\r\n",
        "import time\r\n",
        "start = time.time()\r\n",
        "for i in range(n):\r\n",
        "  for j in range(n):\r\n",
        "    for k in range(n):\r\n",
        "      new_mat[i][j]+= mat[i][k]*mat[k][j]\r\n",
        "end = time.time()\r\n",
        "tim.append(end-start)\r\n",
        "print(\"Old Matrix\")\r\n",
        "print(mat)\r\n",
        "print(\"New Matrix\")\r\n",
        "print(new_mat)"
      ],
      "execution_count": null,
      "outputs": [
        {
          "output_type": "stream",
          "text": [
            "5\n",
            "Old Matrix\n",
            "[[ 0  4 71 94 38]\n",
            " [14 25 63 14 36]\n",
            " [47 84 74 18 85]\n",
            " [58 84 39 17 52]\n",
            " [99 48  8 95 79]]\n",
            "New Matrix\n",
            "[[12607 15784  9476  6542 14069]\n",
            " [ 7687  8877  8065  6458 10359]\n",
            " [14113 14096 15487 15307 18751]\n",
            " [ 9143  9532 13375 12559 13535]\n",
            " [14379 14040 14982 19242 17351]]\n"
          ],
          "name": "stdout"
        }
      ]
    },
    {
      "cell_type": "markdown",
      "metadata": {
        "id": "a1bSwYJKY-wU"
      },
      "source": [
        "Parallel"
      ]
    },
    {
      "cell_type": "code",
      "metadata": {
        "colab": {
          "base_uri": "https://localhost:8080/"
        },
        "id": "RfhZnkgdQ8tA",
        "outputId": "1a034565-486e-4d9c-f699-cb31d18bf77a"
      },
      "source": [
        "from threading import Thread\r\n",
        "def multiply(a,b, mat, new_mat):\r\n",
        "  for i in range(a,b):\r\n",
        "    for j in range(n):\r\n",
        "      for k in range(n):\r\n",
        "        new_mat[i][j]+= mat[i][k]*mat[k][j]\r\n",
        "threads = [None] * (n)\r\n",
        "start = time.time()\r\n",
        "for i in range(len(threads)):\r\n",
        "    threads[i] = Thread(target=multiply, args=(i,i+1,mat,new_mat))\r\n",
        "    threads[i].start()\r\n",
        "\r\n",
        "for i in range(len(threads)):\r\n",
        "    threads[i].join()\r\n",
        "\r\n",
        "# print\r\n",
        "end = time.time()\r\n",
        "tim.append(end-start)\r\n",
        "print(new_mat)"
      ],
      "execution_count": null,
      "outputs": [
        {
          "output_type": "stream",
          "text": [
            "[[25214 31568 18952 13084 28138]\n",
            " [15374 17754 16130 12916 20718]\n",
            " [28226 28192 30974 30614 37502]\n",
            " [18286 19064 26750 25118 27070]\n",
            " [28758 28080 29964 38484 34702]]\n"
          ],
          "name": "stdout"
        }
      ]
    },
    {
      "cell_type": "markdown",
      "metadata": {
        "id": "6yrwJ51jRy5P"
      },
      "source": [
        "## 3. Numpy"
      ]
    },
    {
      "cell_type": "code",
      "metadata": {
        "colab": {
          "base_uri": "https://localhost:8080/"
        },
        "id": "UFwbZiYKRaNk",
        "outputId": "30437578-09a5-4c2c-e9dd-3da235512321"
      },
      "source": [
        "import random\r\n",
        "import numpy as np\r\n",
        "n = int(input())\r\n",
        "mat = np.random.randint(low = 0, high = 100, size = (n,n))\r\n",
        "start = time.time()\r\n",
        "new_mat = np.matmul(np.matrix(mat),np.matrix(mat))\r\n",
        "end = time.time()\r\n",
        "print(new_mat)\r\n",
        "tim.append(end-start)\r\n",
        "print(end-start)"
      ],
      "execution_count": null,
      "outputs": [
        {
          "output_type": "stream",
          "text": [
            "5\n",
            "[[20340 13246 13108 11382 19251]\n",
            " [15419 10881 10988  8207 16840]\n",
            " [20976 12639 15715 13118 19796]\n",
            " [10483  8604  7955  8092 13103]\n",
            " [15507 11979 11942  9922 18929]]\n",
            "0.00026488304138183594\n"
          ],
          "name": "stdout"
        }
      ]
    },
    {
      "cell_type": "markdown",
      "metadata": {
        "id": "ntI-FmqTUqJ2"
      },
      "source": [
        "# 4. Scipy"
      ]
    },
    {
      "cell_type": "code",
      "metadata": {
        "colab": {
          "base_uri": "https://localhost:8080/"
        },
        "id": "qQQdzeMQUJrJ",
        "outputId": "7a427b57-32b3-414d-e951-424b1a514208"
      },
      "source": [
        "import scipy\r\n",
        "start = time.time()\r\n",
        "new_mat = mat.dot(mat)\r\n",
        "end = time.time()\r\n",
        "print(new_mat)\r\n",
        "tim.append(end-start)\r\n",
        "print(end-start)"
      ],
      "execution_count": null,
      "outputs": [
        {
          "output_type": "stream",
          "text": [
            "[[20340 13246 13108 11382 19251]\n",
            " [15419 10881 10988  8207 16840]\n",
            " [20976 12639 15715 13118 19796]\n",
            " [10483  8604  7955  8092 13103]\n",
            " [15507 11979 11942  9922 18929]]\n",
            "6.651878356933594e-05\n"
          ],
          "name": "stdout"
        }
      ]
    },
    {
      "cell_type": "markdown",
      "metadata": {
        "id": "B3jOb9GBVwnF"
      },
      "source": [
        "# Pandas"
      ]
    },
    {
      "cell_type": "code",
      "metadata": {
        "colab": {
          "base_uri": "https://localhost:8080/"
        },
        "id": "galfrL6-UOxo",
        "outputId": "6ddbf007-3ec6-48d1-a5f3-d1dbf68cbe63"
      },
      "source": [
        "import pandas as pd\r\n",
        "data1 = pd.DataFrame(data=mat)\r\n",
        "data2 = pd.DataFrame(data=mat)\r\n",
        "start = time.time()\r\n",
        "new_mat = data1.dot(data2)\r\n",
        "\r\n",
        "end = time.time()\r\n",
        "print(new_mat)\r\n",
        "tim.append(end-start)\r\n",
        "print(end-start)"
      ],
      "execution_count": null,
      "outputs": [
        {
          "output_type": "stream",
          "text": [
            "       0      1      2      3      4\n",
            "0  20340  13246  13108  11382  19251\n",
            "1  15419  10881  10988   8207  16840\n",
            "2  20976  12639  15715  13118  19796\n",
            "3  10483   8604   7955   8092  13103\n",
            "4  15507  11979  11942   9922  18929\n",
            "0.000335693359375\n"
          ],
          "name": "stdout"
        }
      ]
    },
    {
      "cell_type": "markdown",
      "metadata": {
        "id": "LGPMeJAFWnWl"
      },
      "source": [
        "# 6. Sympy"
      ]
    },
    {
      "cell_type": "code",
      "metadata": {
        "colab": {
          "base_uri": "https://localhost:8080/"
        },
        "id": "gnVxany_WBX5",
        "outputId": "7a6944e0-586f-49d5-ab39-27e1811f4b10"
      },
      "source": [
        "from sympy.matrices import Matrix\r\n",
        "from sympy.interactive.printing import init_printing\r\n",
        "init_printing(use_unicode=True)\r\n",
        "matri = Matrix(mat)\r\n",
        "start = time.time()\r\n",
        "new_mat = matri*matri\r\n",
        "end = time.time()\r\n",
        "print(new_mat)\r\n",
        "tim.append(end-start)\r\n",
        "print(end-start)"
      ],
      "execution_count": null,
      "outputs": [
        {
          "output_type": "stream",
          "text": [
            "Matrix([[20340, 13246, 13108, 11382, 19251], [15419, 10881, 10988, 8207, 16840], [20976, 12639, 15715, 13118, 19796], [10483, 8604, 7955, 8092, 13103], [15507, 11979, 11942, 9922, 18929]])\n",
            "0.0010039806365966797\n"
          ],
          "name": "stdout"
        }
      ]
    },
    {
      "cell_type": "code",
      "metadata": {
        "id": "TY5uieb0YaAR"
      },
      "source": [
        ""
      ],
      "execution_count": null,
      "outputs": []
    }
  ]
}