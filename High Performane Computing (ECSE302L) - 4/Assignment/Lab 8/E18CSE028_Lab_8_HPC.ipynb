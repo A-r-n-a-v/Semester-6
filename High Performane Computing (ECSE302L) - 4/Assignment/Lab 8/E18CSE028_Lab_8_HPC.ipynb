{
 "cells": [
  {
   "cell_type": "code",
   "execution_count": 5,
   "id": "worst-garbage",
   "metadata": {},
   "outputs": [],
   "source": [
    "import multiprocessing as mp\n",
    "import random\n",
    "import pymp\n",
    "import time"
   ]
  },
  {
   "cell_type": "markdown",
   "id": "received-portsmouth",
   "metadata": {},
   "source": [
    "## task 1"
   ]
  },
  {
   "cell_type": "code",
   "execution_count": 2,
   "id": "brave-german",
   "metadata": {},
   "outputs": [],
   "source": [
    "def fun_n(n):\n",
    "    Sum=0\n",
    "    for i in range(n):\n",
    "        Sum+=i\n",
    "    return Sum"
   ]
  },
  {
   "cell_type": "code",
   "execution_count": 3,
   "id": "eight-softball",
   "metadata": {},
   "outputs": [],
   "source": [
    "def fun_n_2(n):\n",
    "    Sum=0\n",
    "    for i in range(n):\n",
    "        for j in range(n):\n",
    "            Sum+=(i*j)\n",
    "    return Sum"
   ]
  },
  {
   "cell_type": "code",
   "execution_count": 4,
   "id": "approximate-bunch",
   "metadata": {},
   "outputs": [],
   "source": [
    "def fun_n_3(n):\n",
    "    Sum=0\n",
    "    for i in range(n):\n",
    "        for j in range(n):\n",
    "            for k in range(n):\n",
    "                Sum+=(i*j*k)\n",
    "    return Sum"
   ]
  },
  {
   "cell_type": "code",
   "execution_count": 61,
   "id": "separate-reading",
   "metadata": {},
   "outputs": [
    {
     "name": "stdout",
     "output_type": "stream",
     "text": [
      "CPU times: user 23 µs, sys: 15 µs, total: 38 µs\n",
      "Wall time: 39.8 µs\n"
     ]
    },
    {
     "data": {
      "text/plain": [
       "79800"
      ]
     },
     "execution_count": 61,
     "metadata": {},
     "output_type": "execute_result"
    }
   ],
   "source": [
    "%%time\n",
    "fun_n(400)"
   ]
  },
  {
   "cell_type": "code",
   "execution_count": 62,
   "id": "stone-external",
   "metadata": {},
   "outputs": [
    {
     "name": "stdout",
     "output_type": "stream",
     "text": [
      "CPU times: user 19.9 ms, sys: 0 ns, total: 19.9 ms\n",
      "Wall time: 19 ms\n"
     ]
    },
    {
     "data": {
      "text/plain": [
       "6368040000"
      ]
     },
     "execution_count": 62,
     "metadata": {},
     "output_type": "execute_result"
    }
   ],
   "source": [
    "%%time\n",
    "fun_n_2(400)"
   ]
  },
  {
   "cell_type": "code",
   "execution_count": 63,
   "id": "conceptual-engagement",
   "metadata": {},
   "outputs": [
    {
     "name": "stdout",
     "output_type": "stream",
     "text": [
      "CPU times: user 6 s, sys: 8.8 ms, total: 6.01 s\n",
      "Wall time: 6.03 s\n"
     ]
    },
    {
     "data": {
      "text/plain": [
       "508169592000000"
      ]
     },
     "execution_count": 63,
     "metadata": {},
     "output_type": "execute_result"
    }
   ],
   "source": [
    "%%time\n",
    "fun_n_3(400)"
   ]
  },
  {
   "cell_type": "code",
   "execution_count": 16,
   "id": "greater-notion",
   "metadata": {},
   "outputs": [],
   "source": [
    "cpu_count=mp.cpu_count()"
   ]
  },
  {
   "cell_type": "markdown",
   "id": "amino-candidate",
   "metadata": {},
   "source": [
    "## Random Allocation"
   ]
  },
  {
   "cell_type": "code",
   "execution_count": 29,
   "id": "explicit-democracy",
   "metadata": {},
   "outputs": [
    {
     "data": {
      "text/plain": [
       "[<function __main__.fun_n(n)>,\n",
       " <function __main__.fun_n_2(n)>,\n",
       " <function __main__.fun_n_3(n)>,\n",
       " <function __main__.fun_n(n)>,\n",
       " <function __main__.fun_n_3(n)>,\n",
       " <function __main__.fun_n_2(n)>,\n",
       " <function __main__.fun_n_3(n)>,\n",
       " <function __main__.fun_n_2(n)>,\n",
       " <function __main__.fun_n(n)>,\n",
       " <function __main__.fun_n_3(n)>,\n",
       " <function __main__.fun_n_3(n)>,\n",
       " <function __main__.fun_n_3(n)>,\n",
       " <function __main__.fun_n(n)>,\n",
       " <function __main__.fun_n_3(n)>,\n",
       " <function __main__.fun_n_2(n)>,\n",
       " <function __main__.fun_n_2(n)>,\n",
       " <function __main__.fun_n_2(n)>,\n",
       " <function __main__.fun_n_3(n)>,\n",
       " <function __main__.fun_n_3(n)>,\n",
       " <function __main__.fun_n(n)>,\n",
       " <function __main__.fun_n_3(n)>,\n",
       " <function __main__.fun_n_3(n)>,\n",
       " <function __main__.fun_n_3(n)>,\n",
       " <function __main__.fun_n(n)>,\n",
       " <function __main__.fun_n(n)>,\n",
       " <function __main__.fun_n(n)>,\n",
       " <function __main__.fun_n_2(n)>,\n",
       " <function __main__.fun_n_2(n)>,\n",
       " <function __main__.fun_n_2(n)>,\n",
       " <function __main__.fun_n_3(n)>]"
      ]
     },
     "execution_count": 29,
     "metadata": {},
     "output_type": "execute_result"
    }
   ],
   "source": [
    "random_jobs_list = [random.choice([fun_n, fun_n_2, fun_n_3]) for _ in range(30)]\n",
    "random_jobs_list"
   ]
  },
  {
   "cell_type": "markdown",
   "id": "sticky-philosophy",
   "metadata": {},
   "source": [
    "Serial"
   ]
  },
  {
   "cell_type": "code",
   "execution_count": 30,
   "id": "minor-hacker",
   "metadata": {},
   "outputs": [
    {
     "name": "stdout",
     "output_type": "stream",
     "text": [
      "CPU times: user 1min 32s, sys: 139 ms, total: 1min 32s\n",
      "Wall time: 1min 33s\n"
     ]
    }
   ],
   "source": [
    "%%time\n",
    "for fun in random_jobs_list:\n",
    "    fun(400)"
   ]
  },
  {
   "cell_type": "markdown",
   "id": "brief-check",
   "metadata": {},
   "source": [
    "Parallel"
   ]
  },
  {
   "cell_type": "code",
   "execution_count": 31,
   "id": "satellite-combining",
   "metadata": {},
   "outputs": [
    {
     "name": "stdout",
     "output_type": "stream",
     "text": [
      "[79800, 79800, 6368040000, 79800, 6368040000, 79800, 6368040000, 6368040000, 6368040000, 6368040000, 508169592000000, 508169592000000, 79800, 508169592000000, 508169592000000, 508169592000000, 79800, 79800, 79800, 6368040000, 6368040000, 6368040000, 508169592000000, 508169592000000, 508169592000000, 508169592000000, 508169592000000, 508169592000000, 508169592000000, 508169592000000]\n",
      "CPU times: user 28 s, sys: 55.3 ms, total: 28 s\n",
      "Wall time: 32.4 s\n"
     ]
    }
   ],
   "source": [
    "%%time\n",
    "c = pymp.shared.list()\n",
    "with pymp.Parallel(8) as p:\n",
    "    for i in p.xrange(len(random_jobs_list)):\n",
    "        c.append(random_jobs_list[i](400))\n",
    "print(c)"
   ]
  },
  {
   "cell_type": "markdown",
   "id": "verified-regular",
   "metadata": {},
   "source": [
    "## Shortest Job First"
   ]
  },
  {
   "cell_type": "code",
   "execution_count": 51,
   "id": "clear-invention",
   "metadata": {},
   "outputs": [],
   "source": [
    "sjf = []\n",
    "for i in range(10):\n",
    "    sjf.append(fun_n)\n",
    "    sjf.append(fun_n_2)\n",
    "    sjf.append(fun_n_3)"
   ]
  },
  {
   "cell_type": "code",
   "execution_count": 58,
   "id": "thirty-rating",
   "metadata": {},
   "outputs": [],
   "source": [
    "shortest_first = sorted([job.__name__ for job in sjf])\n",
    "shortest_first = [globals()[func] for func in shortest_first]"
   ]
  },
  {
   "cell_type": "markdown",
   "id": "ultimate-marker",
   "metadata": {},
   "source": [
    "Serial"
   ]
  },
  {
   "cell_type": "code",
   "execution_count": 65,
   "id": "convinced-allah",
   "metadata": {},
   "outputs": [
    {
     "name": "stdout",
     "output_type": "stream",
     "text": [
      "CPU times: user 1min 13s, sys: 4.13 ms, total: 1min 13s\n",
      "Wall time: 1min 13s\n"
     ]
    }
   ],
   "source": [
    "%%time\n",
    "for i in sjf:\n",
    "    i(400)"
   ]
  },
  {
   "cell_type": "markdown",
   "id": "honey-registration",
   "metadata": {},
   "source": [
    "Parallel"
   ]
  },
  {
   "cell_type": "code",
   "execution_count": 60,
   "id": "fossil-fantasy",
   "metadata": {},
   "outputs": [
    {
     "name": "stdout",
     "output_type": "stream",
     "text": [
      "[79800, 79800, 79800, 6368040000, 79800, 79800, 6368040000, 6368040000, 79800, 6368040000, 6368040000, 79800, 6368040000, 6368040000, 79800, 6368040000, 508169592000000, 79800, 6368040000, 508169592000000, 79800, 6368040000, 508169592000000, 508169592000000, 508169592000000, 508169592000000, 508169592000000, 508169592000000, 508169592000000, 508169592000000]\n",
      "CPU times: user 19.3 s, sys: 43.3 ms, total: 19.4 s\n",
      "Wall time: 27.2 s\n"
     ]
    }
   ],
   "source": [
    "%%time\n",
    "c = pymp.shared.list()\n",
    "with pymp.Parallel(8) as p:\n",
    "    for i in p.xrange(len(sjf)):\n",
    "        c.append(sjf[i](400))\n",
    "print(c)"
   ]
  }
 ],
 "metadata": {
  "kernelspec": {
   "display_name": "Python 3",
   "language": "python",
   "name": "python3"
  },
  "language_info": {
   "codemirror_mode": {
    "name": "ipython",
    "version": 3
   },
   "file_extension": ".py",
   "mimetype": "text/x-python",
   "name": "python",
   "nbconvert_exporter": "python",
   "pygments_lexer": "ipython3",
   "version": "3.8.5"
  }
 },
 "nbformat": 4,
 "nbformat_minor": 5
}
