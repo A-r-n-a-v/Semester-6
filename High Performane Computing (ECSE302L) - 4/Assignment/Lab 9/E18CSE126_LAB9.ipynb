{
  "nbformat": 4,
  "nbformat_minor": 0,
  "metadata": {
    "colab": {
      "name": "E18CSE174_HPC_lab9.ipynb",
      "provenance": [],
      "collapsed_sections": []
    },
    "kernelspec": {
      "name": "python3",
      "display_name": "Python 3"
    },
    "language_info": {
      "name": "python"
    }
  },
  "cells": [
    {
      "cell_type": "code",
      "metadata": {
        "id": "nAa2q-Z3AgXa"
      },
      "source": [
        "#Siddharth Khare\n",
        "#E18CSE174\n",
        "#To make a friend recommender on social media using parallel BFS"
      ],
      "execution_count": null,
      "outputs": []
    },
    {
      "cell_type": "code",
      "metadata": {
        "id": "utyK5hppBMFB"
      },
      "source": [
        "import pandas as pd"
      ],
      "execution_count": null,
      "outputs": []
    },
    {
      "cell_type": "code",
      "metadata": {
        "id": "ClcgBJYRFMTk"
      },
      "source": [
        "import networkx as nx"
      ],
      "execution_count": null,
      "outputs": []
    },
    {
      "cell_type": "code",
      "metadata": {
        "id": "tAU8HmnyFOuk"
      },
      "source": [
        "import pandas as pd \n",
        "df=pd.read_csv('gdrive/My Drive/Uni_work/lastfm_asia_edges.csv')"
      ],
      "execution_count": null,
      "outputs": []
    },
    {
      "cell_type": "code",
      "metadata": {
        "colab": {
          "base_uri": "https://localhost:8080/"
        },
        "id": "9IbWIer1GZ7b",
        "outputId": "be2e8d88-4e5d-44ab-b52d-ae4c01ec25d7"
      },
      "source": [
        "from google.colab import drive\n",
        "drive.mount('/content/gdrive')\n"
      ],
      "execution_count": null,
      "outputs": [
        {
          "output_type": "stream",
          "text": [
            "Mounted at /content/gdrive\n"
          ],
          "name": "stdout"
        }
      ]
    },
    {
      "cell_type": "code",
      "metadata": {
        "colab": {
          "base_uri": "https://localhost:8080/",
          "height": 415
        },
        "id": "4jnDYQ2bHFS-",
        "outputId": "0d726c0f-3943-4390-c85f-2db2f302a0a0"
      },
      "source": [
        "df"
      ],
      "execution_count": null,
      "outputs": [
        {
          "output_type": "execute_result",
          "data": {
            "text/html": [
              "<div>\n",
              "<style scoped>\n",
              "    .dataframe tbody tr th:only-of-type {\n",
              "        vertical-align: middle;\n",
              "    }\n",
              "\n",
              "    .dataframe tbody tr th {\n",
              "        vertical-align: top;\n",
              "    }\n",
              "\n",
              "    .dataframe thead th {\n",
              "        text-align: right;\n",
              "    }\n",
              "</style>\n",
              "<table border=\"1\" class=\"dataframe\">\n",
              "  <thead>\n",
              "    <tr style=\"text-align: right;\">\n",
              "      <th></th>\n",
              "      <th>node_1</th>\n",
              "      <th>node_2</th>\n",
              "    </tr>\n",
              "  </thead>\n",
              "  <tbody>\n",
              "    <tr>\n",
              "      <th>0</th>\n",
              "      <td>0</td>\n",
              "      <td>747</td>\n",
              "    </tr>\n",
              "    <tr>\n",
              "      <th>1</th>\n",
              "      <td>1</td>\n",
              "      <td>4257</td>\n",
              "    </tr>\n",
              "    <tr>\n",
              "      <th>2</th>\n",
              "      <td>1</td>\n",
              "      <td>2194</td>\n",
              "    </tr>\n",
              "    <tr>\n",
              "      <th>3</th>\n",
              "      <td>1</td>\n",
              "      <td>580</td>\n",
              "    </tr>\n",
              "    <tr>\n",
              "      <th>4</th>\n",
              "      <td>1</td>\n",
              "      <td>6478</td>\n",
              "    </tr>\n",
              "    <tr>\n",
              "      <th>...</th>\n",
              "      <td>...</td>\n",
              "      <td>...</td>\n",
              "    </tr>\n",
              "    <tr>\n",
              "      <th>27801</th>\n",
              "      <td>7488</td>\n",
              "      <td>7564</td>\n",
              "    </tr>\n",
              "    <tr>\n",
              "      <th>27802</th>\n",
              "      <td>7505</td>\n",
              "      <td>7579</td>\n",
              "    </tr>\n",
              "    <tr>\n",
              "      <th>27803</th>\n",
              "      <td>7533</td>\n",
              "      <td>7536</td>\n",
              "    </tr>\n",
              "    <tr>\n",
              "      <th>27804</th>\n",
              "      <td>7569</td>\n",
              "      <td>7587</td>\n",
              "    </tr>\n",
              "    <tr>\n",
              "      <th>27805</th>\n",
              "      <td>7580</td>\n",
              "      <td>7595</td>\n",
              "    </tr>\n",
              "  </tbody>\n",
              "</table>\n",
              "<p>27806 rows × 2 columns</p>\n",
              "</div>"
            ],
            "text/plain": [
              "       node_1  node_2\n",
              "0           0     747\n",
              "1           1    4257\n",
              "2           1    2194\n",
              "3           1     580\n",
              "4           1    6478\n",
              "...       ...     ...\n",
              "27801    7488    7564\n",
              "27802    7505    7579\n",
              "27803    7533    7536\n",
              "27804    7569    7587\n",
              "27805    7580    7595\n",
              "\n",
              "[27806 rows x 2 columns]"
            ]
          },
          "metadata": {
            "tags": []
          },
          "execution_count": 10
        }
      ]
    },
    {
      "cell_type": "code",
      "metadata": {
        "colab": {
          "base_uri": "https://localhost:8080/"
        },
        "id": "1E5AIsAZHiw1",
        "outputId": "177ceb53-8873-4be0-b6ba-60678ff4341b"
      },
      "source": [
        "df.head"
      ],
      "execution_count": null,
      "outputs": [
        {
          "output_type": "execute_result",
          "data": {
            "text/plain": [
              "<bound method NDFrame.head of        node_1  node_2\n",
              "0           0     747\n",
              "1           1    4257\n",
              "2           1    2194\n",
              "3           1     580\n",
              "4           1    6478\n",
              "...       ...     ...\n",
              "27801    7488    7564\n",
              "27802    7505    7579\n",
              "27803    7533    7536\n",
              "27804    7569    7587\n",
              "27805    7580    7595\n",
              "\n",
              "[27806 rows x 2 columns]>"
            ]
          },
          "metadata": {
            "tags": []
          },
          "execution_count": 11
        }
      ]
    },
    {
      "cell_type": "code",
      "metadata": {
        "id": "UjsgBRh6IuKK"
      },
      "source": [
        "graph=nx.from_pandas_edgelist(df,source='node_1',target='node_2')"
      ],
      "execution_count": null,
      "outputs": []
    },
    {
      "cell_type": "code",
      "metadata": {
        "id": "OJL3MIGeJAsG"
      },
      "source": [
        "class graph:\n",
        "  def addtoedge(new,x,y):\n",
        "    new.gragh[x].append(y)\n",
        "    "
      ],
      "execution_count": null,
      "outputs": []
    },
    {
      "cell_type": "code",
      "metadata": {
        "id": "fhvL7-YJuAj1"
      },
      "source": [
        ""
      ],
      "execution_count": null,
      "outputs": []
    }
  ]
}